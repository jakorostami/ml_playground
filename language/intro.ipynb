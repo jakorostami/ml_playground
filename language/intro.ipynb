{
 "cells": [
  {
   "cell_type": "code",
   "execution_count": 1,
   "metadata": {},
   "outputs": [],
   "source": [
    "from transformers import pipeline"
   ]
  },
  {
   "cell_type": "code",
   "execution_count": 41,
   "metadata": {},
   "outputs": [
    {
     "name": "stderr",
     "output_type": "stream",
     "text": [
      "No model was supplied, defaulted to distilbert/distilbert-base-uncased-finetuned-sst-2-english and revision af0f99b (https://huggingface.co/distilbert/distilbert-base-uncased-finetuned-sst-2-english).\n",
      "Using a pipeline without specifying a model name and revision in production is not recommended.\n",
      "No model was supplied, defaulted to facebook/bart-large-mnli and revision c626438 (https://huggingface.co/facebook/bart-large-mnli).\n",
      "Using a pipeline without specifying a model name and revision in production is not recommended.\n",
      "No model was supplied, defaulted to openai-community/gpt2 and revision 6c0e608 (https://huggingface.co/openai-community/gpt2).\n",
      "Using a pipeline without specifying a model name and revision in production is not recommended.\n",
      "No model was supplied, defaulted to distilbert/distilroberta-base and revision ec58a5b (https://huggingface.co/distilbert/distilroberta-base).\n",
      "Using a pipeline without specifying a model name and revision in production is not recommended.\n",
      "Some weights of the model checkpoint at distilbert/distilroberta-base were not used when initializing RobertaForMaskedLM: ['roberta.pooler.dense.bias', 'roberta.pooler.dense.weight']\n",
      "- This IS expected if you are initializing RobertaForMaskedLM from the checkpoint of a model trained on another task or with another architecture (e.g. initializing a BertForSequenceClassification model from a BertForPreTraining model).\n",
      "- This IS NOT expected if you are initializing RobertaForMaskedLM from the checkpoint of a model that you expect to be exactly identical (initializing a BertForSequenceClassification model from a BertForSequenceClassification model).\n",
      "No model was supplied, defaulted to dbmdz/bert-large-cased-finetuned-conll03-english and revision f2482bf (https://huggingface.co/dbmdz/bert-large-cased-finetuned-conll03-english).\n",
      "Using a pipeline without specifying a model name and revision in production is not recommended.\n",
      "Some weights of the model checkpoint at dbmdz/bert-large-cased-finetuned-conll03-english were not used when initializing BertForTokenClassification: ['bert.pooler.dense.bias', 'bert.pooler.dense.weight']\n",
      "- This IS expected if you are initializing BertForTokenClassification from the checkpoint of a model trained on another task or with another architecture (e.g. initializing a BertForSequenceClassification model from a BertForPreTraining model).\n",
      "- This IS NOT expected if you are initializing BertForTokenClassification from the checkpoint of a model that you expect to be exactly identical (initializing a BertForSequenceClassification model from a BertForSequenceClassification model).\n",
      "c:\\Users\\jako\\anaconda3\\envs\\imagimob\\lib\\site-packages\\transformers\\pipelines\\token_classification.py:168: UserWarning: `grouped_entities` is deprecated and will be removed in version v5.0.0, defaulted to `aggregation_strategy=\"simple\"` instead.\n",
      "  warnings.warn(\n",
      "No model was supplied, defaulted to sshleifer/distilbart-cnn-12-6 and revision a4f8f3e (https://huggingface.co/sshleifer/distilbart-cnn-12-6).\n",
      "Using a pipeline without specifying a model name and revision in production is not recommended.\n"
     ]
    },
    {
     "data": {
      "application/vnd.jupyter.widget-view+json": {
       "model_id": "8626b9d6ff794f32a3b80cd9ef41fe0c",
       "version_major": 2,
       "version_minor": 0
      },
      "text/plain": [
       "config.json:   0%|          | 0.00/846 [00:00<?, ?B/s]"
      ]
     },
     "metadata": {},
     "output_type": "display_data"
    },
    {
     "name": "stderr",
     "output_type": "stream",
     "text": [
      "c:\\Users\\jako\\anaconda3\\envs\\imagimob\\lib\\site-packages\\huggingface_hub\\file_download.py:148: UserWarning: `huggingface_hub` cache-system uses symlinks by default to efficiently store duplicated files but your machine does not support them in C:\\Users\\jako\\.cache\\huggingface\\hub\\models--facebook--nllb-200-distilled-600M. Caching files will still work but in a degraded version that might require more space on your disk. This warning can be disabled by setting the `HF_HUB_DISABLE_SYMLINKS_WARNING` environment variable. For more details, see https://huggingface.co/docs/huggingface_hub/how-to-cache#limitations.\n",
      "To support symlinks on Windows, you either need to activate Developer Mode or to run Python as an administrator. In order to see activate developer mode, see this article: https://docs.microsoft.com/en-us/windows/apps/get-started/enable-your-device-for-development\n",
      "  warnings.warn(message)\n"
     ]
    },
    {
     "data": {
      "application/vnd.jupyter.widget-view+json": {
       "model_id": "fd78dec4ca7a4039a976f724dcfb9915",
       "version_major": 2,
       "version_minor": 0
      },
      "text/plain": [
       "pytorch_model.bin:   0%|          | 0.00/2.46G [00:00<?, ?B/s]"
      ]
     },
     "metadata": {},
     "output_type": "display_data"
    },
    {
     "data": {
      "application/vnd.jupyter.widget-view+json": {
       "model_id": "602c1ae2c3eb4c2a9f6eb58581f3e7b0",
       "version_major": 2,
       "version_minor": 0
      },
      "text/plain": [
       "generation_config.json:   0%|          | 0.00/189 [00:00<?, ?B/s]"
      ]
     },
     "metadata": {},
     "output_type": "display_data"
    },
    {
     "data": {
      "application/vnd.jupyter.widget-view+json": {
       "model_id": "89558aa10fdc4afd8ef67d96fdc1a036",
       "version_major": 2,
       "version_minor": 0
      },
      "text/plain": [
       "tokenizer_config.json:   0%|          | 0.00/564 [00:00<?, ?B/s]"
      ]
     },
     "metadata": {},
     "output_type": "display_data"
    },
    {
     "data": {
      "application/vnd.jupyter.widget-view+json": {
       "model_id": "2ea3b3d9396e4408850fc1769ca7021d",
       "version_major": 2,
       "version_minor": 0
      },
      "text/plain": [
       "sentencepiece.bpe.model:   0%|          | 0.00/4.85M [00:00<?, ?B/s]"
      ]
     },
     "metadata": {},
     "output_type": "display_data"
    },
    {
     "data": {
      "application/vnd.jupyter.widget-view+json": {
       "model_id": "5fce62ab9f754062bfc8b5ea053eb818",
       "version_major": 2,
       "version_minor": 0
      },
      "text/plain": [
       "tokenizer.json:   0%|          | 0.00/17.3M [00:00<?, ?B/s]"
      ]
     },
     "metadata": {},
     "output_type": "display_data"
    },
    {
     "data": {
      "application/vnd.jupyter.widget-view+json": {
       "model_id": "b0ed689e96e6430d91165f6a49f61b64",
       "version_major": 2,
       "version_minor": 0
      },
      "text/plain": [
       "special_tokens_map.json:   0%|          | 0.00/3.55k [00:00<?, ?B/s]"
      ]
     },
     "metadata": {},
     "output_type": "display_data"
    }
   ],
   "source": [
    "classifier = pipeline(\"sentiment-analysis\")\n",
    "zeroshot = pipeline(\"zero-shot-classification\")\n",
    "generative_text = pipeline(\"text-generation\", max_new_tokens=512)\n",
    "wordfiller = pipeline(\"fill-mask\")\n",
    "ner = pipeline(\"ner\", grouped_entities=True)\n",
    "summarizer = pipeline(\"summarization\")\n",
    "translator = pipeline(\"translation\", model=\"facebook/nllb-200-distilled-600M\")"
   ]
  },
  {
   "cell_type": "code",
   "execution_count": 10,
   "metadata": {},
   "outputs": [],
   "source": [
    "first_text = \"I really don't know what to tell you.\"\n",
    "second_text = \"Don't you feel any remorse?\"\n",
    "third_text = \"It seems that the elephant in the room is a jolly one despite the fact that I don't play into your fantasies, imbecil.\""
   ]
  },
  {
   "cell_type": "code",
   "execution_count": 11,
   "metadata": {},
   "outputs": [
    {
     "data": {
      "text/plain": [
       "[[{'label': 'NEGATIVE', 'score': 0.9995043277740479}],\n",
       " [{'label': 'NEGATIVE', 'score': 0.9082478284835815}],\n",
       " [{'label': 'POSITIVE', 'score': 0.9989263415336609}]]"
      ]
     },
     "execution_count": 11,
     "metadata": {},
     "output_type": "execute_result"
    }
   ],
   "source": [
    "[classifier(text) for text in [first_text, second_text, third_text]]"
   ]
  },
  {
   "cell_type": "code",
   "execution_count": 12,
   "metadata": {},
   "outputs": [],
   "source": [
    "long_text = \"\"\"\n",
    "Before creating the Microsoft Game Development Kit (GDK), the Gaming team at Microsoft asked you, our game development partners, \n",
    "about how we could do better, how we could empower you to do more, and how we could help you delight the gamers of today and tomorrow. \n",
    "We embarked on a listening tour, met with many of you in person, and heard your thoughts on what we do well and what we need to improve. \n",
    "We're incredibly thankful for the time, energy, and knowledge you've shared with us,\n",
    "and we're proud to say that the Microsoft Game Development Kit (GDK) is the direct result of the feedback you've given us.\n",
    "\"\"\""
   ]
  },
  {
   "cell_type": "code",
   "execution_count": 13,
   "metadata": {},
   "outputs": [
    {
     "data": {
      "text/plain": [
       "[{'label': 'POSITIVE', 'score': 0.999735414981842}]"
      ]
     },
     "execution_count": 13,
     "metadata": {},
     "output_type": "execute_result"
    }
   ],
   "source": [
    "classifier(long_text)"
   ]
  },
  {
   "cell_type": "code",
   "execution_count": 17,
   "metadata": {},
   "outputs": [
    {
     "data": {
      "text/plain": [
       "{'sequence': \"\\nBefore creating the Microsoft Game Development Kit (GDK), the Gaming team at Microsoft asked you, our game development partners, \\nabout how we could do better, how we could empower you to do more, and how we could help you delight the gamers of today and tomorrow. \\nWe embarked on a listening tour, met with many of you in person, and heard your thoughts on what we do well and what we need to improve. \\nWe're incredibly thankful for the time, energy, and knowledge you've shared with us,\\nand we're proud to say that the Microsoft Game Development Kit (GDK) is the direct result of the feedback you've given us.\\n\",\n",
       " 'labels': ['gaming',\n",
       "  'product',\n",
       "  'development',\n",
       "  'business',\n",
       "  'education',\n",
       "  'documentation'],\n",
       " 'scores': [0.46951037645339966,\n",
       "  0.1783008724451065,\n",
       "  0.12759369611740112,\n",
       "  0.09930986166000366,\n",
       "  0.06589639186859131,\n",
       "  0.05938870832324028]}"
      ]
     },
     "execution_count": 17,
     "metadata": {},
     "output_type": "execute_result"
    }
   ],
   "source": [
    "zeroshot(long_text, candidate_labels=[\"product\", \"gaming\", \"business\", \"development\", \"education\", \"documentation\"]) "
   ]
  },
  {
   "cell_type": "code",
   "execution_count": 28,
   "metadata": {},
   "outputs": [
    {
     "name": "stderr",
     "output_type": "stream",
     "text": [
      "Setting `pad_token_id` to `eos_token_id`:50256 for open-end generation.\n"
     ]
    },
    {
     "data": {
      "text/plain": [
       "[{'generated_text': \"I really don't know what to tell you. I was just saying it would be great to have you, maybe come over to the ranch a little, maybe come over to this spot a little, I didn't want to hear that before I had the chance.\\n\\nIf you're a little\"},\n",
       " {'generated_text': 'I really don\\'t know what to tell you.\\n\\n\"When someone tells you they know how to kiss you, how to perform oral sex, you do it pretty well, for sure, in most circumstances. I don\\'t want this to be you.\"\\n\\nYou say your partner is a'},\n",
       " {'generated_text': 'I really don\\'t know what to tell you. They seem to do a lot worse in terms of what you can do compared to some of the other teams.\"\\n\\nEven so, he still feels like he has the right answer. The first three days have been so busy, he feels like he'},\n",
       " {'generated_text': \"I really don't know what to tell you. The truth is, I think I understand a lot. My kids are getting older. My dad has a lot to give him, but things are pretty much the same. There's a lot different styles of being a professional athlete, from basketball to professional\"}]"
      ]
     },
     "execution_count": 28,
     "metadata": {},
     "output_type": "execute_result"
    }
   ],
   "source": [
    "generative_text(first_text, max_new_tokens=50, num_return_sequences=4)"
   ]
  },
  {
   "cell_type": "code",
   "execution_count": 33,
   "metadata": {},
   "outputs": [
    {
     "data": {
      "text/plain": [
       "[{'score': 0.14539211988449097,\n",
       "  'token': 209,\n",
       "  'token_str': ' these',\n",
       "  'sequence': 'By applying these laws, we can continue the process.'},\n",
       " {'score': 0.05817340686917305,\n",
       "  'token': 84,\n",
       "  'token_str': ' our',\n",
       "  'sequence': 'By applying our laws, we can continue the process.'},\n",
       " {'score': 0.05614664405584335,\n",
       "  'token': 2210,\n",
       "  'token_str': ' existing',\n",
       "  'sequence': 'By applying existing laws, we can continue the process.'}]"
      ]
     },
     "execution_count": 33,
     "metadata": {},
     "output_type": "execute_result"
    }
   ],
   "source": [
    "wordfiller(\"By applying <mask> laws, we can continue the process.\", top_k=3)"
   ]
  },
  {
   "cell_type": "code",
   "execution_count": 37,
   "metadata": {},
   "outputs": [],
   "source": [
    "trump_speech_uniondale = \"\"\"\n",
    "And you know what happened? I got eviscerated when I went backstage. \n",
    "I went backstage, but I’m not like Biden where he takes… I fight back with my people. \n",
    "Remember, we still signed the check. \n",
    "They said, “Sir, that’s a terrible thing to have said.” I said, “What is?” “What you said, “What the hell do you have to lose?” \n",
    "It’s terrible. It’s demeaning. It’s horrible.” I said, “But it’s true.”\n",
    "We will renovate the New York Subway so that the greatest city in the world finally has again the greatest transit system anywhere in the world. \n",
    "You have the basics. We have to clean it. We have to take care of it. We have to give it a little love. \n",
    "And we have to get the criminals the hell out there. We will once again support our incredible police officers, New York’s finest, a lot of them. \n",
    "I’ve got the support. To me, this is so important. I think to you, it’s… Every single police group in the nation is supporting me. \n",
    "The other day, The Fraternal Order, it’s the largest, they gave us 400,000 police and they gave us a unanimous endorsement, we have it from everybody, have it from everybody. \n",
    "We will work with the mayors and the governor to rebuild your defunded and depleted police forces, including New York’s finest and NYPD.\n",
    "\"\"\""
   ]
  },
  {
   "cell_type": "code",
   "execution_count": 38,
   "metadata": {},
   "outputs": [
    {
     "data": {
      "text/plain": [
       "[{'entity_group': 'PER',\n",
       "  'score': 0.98359025,\n",
       "  'word': 'Biden',\n",
       "  'start': 106,\n",
       "  'end': 111},\n",
       " {'entity_group': 'LOC',\n",
       "  'score': 0.7278991,\n",
       "  'word': 'New York',\n",
       "  'start': 418,\n",
       "  'end': 426},\n",
       " {'entity_group': 'ORG',\n",
       "  'score': 0.7891897,\n",
       "  'word': 'Subway',\n",
       "  'start': 427,\n",
       "  'end': 433},\n",
       " {'entity_group': 'LOC',\n",
       "  'score': 0.9991226,\n",
       "  'word': 'New York',\n",
       "  'start': 760,\n",
       "  'end': 768},\n",
       " {'entity_group': 'ORG',\n",
       "  'score': 0.9958949,\n",
       "  'word': 'The Fraternal Order',\n",
       "  'start': 942,\n",
       "  'end': 961},\n",
       " {'entity_group': 'LOC',\n",
       "  'score': 0.99865437,\n",
       "  'word': 'New York',\n",
       "  'start': 1212,\n",
       "  'end': 1220},\n",
       " {'entity_group': 'ORG',\n",
       "  'score': 0.97383976,\n",
       "  'word': 'NYPD',\n",
       "  'start': 1234,\n",
       "  'end': 1238}]"
      ]
     },
     "execution_count": 38,
     "metadata": {},
     "output_type": "execute_result"
    }
   ],
   "source": [
    "ner(trump_speech_uniondale)"
   ]
  },
  {
   "cell_type": "code",
   "execution_count": 40,
   "metadata": {},
   "outputs": [
    {
     "data": {
      "text/plain": [
       "[{'summary_text': \" Every single police group in the nation is supporting me, he says . The Fraternal Order, it's the largest, gave us 400,000 police and they gave us a unanimous endorsement . We will work with the mayors and the governor to rebuild your defunded and depleted police forces, including New York's finest and NYPD .\"}]"
      ]
     },
     "execution_count": 40,
     "metadata": {},
     "output_type": "execute_result"
    }
   ],
   "source": [
    "summarizer(trump_speech_uniondale)"
   ]
  },
  {
   "cell_type": "code",
   "execution_count": 47,
   "metadata": {},
   "outputs": [
    {
     "data": {
      "text/plain": [
       "[{'translation_text': 'Jag har fortfarande skrivit checken. Jag sa: \"Sir, det är en fruktansvärd sak att ha sagt\". Jag sa: \"Vad är det? Vad har du sagt? Det är fruktansvärd. Det är förnedrande. Det är fruktansvärd. Jag sade: \"Men det är sant. Vi kommer att renovera New York-metro så att världens största stad äntligen har det största transitsystemet någonstans i världen. Du har grunderna. Vi måste städa det. Vi måste ta hand om det. Vi måste ge det lite. Och brottslingar måste få lov att få tillbaka polisens arbete. Vi kommer att ha alla våra polisstyrkor, inklusive alla andra poliser, som har fått en hel helgstöd, och jag tror att vi kommer att ge dem en helgstöd, så att vi kan stödja det.'}]"
      ]
     },
     "execution_count": 47,
     "metadata": {},
     "output_type": "execute_result"
    }
   ],
   "source": [
    "translator(trump_speech_uniondale, src_lang=\"eng_Latn\", tgt_lang=\"swe_Latn\", max_length=512)"
   ]
  }
 ],
 "metadata": {
  "kernelspec": {
   "display_name": "geminicomp",
   "language": "python",
   "name": "python3"
  },
  "language_info": {
   "codemirror_mode": {
    "name": "ipython",
    "version": 3
   },
   "file_extension": ".py",
   "mimetype": "text/x-python",
   "name": "python",
   "nbconvert_exporter": "python",
   "pygments_lexer": "ipython3",
   "version": "3.9.18"
  }
 },
 "nbformat": 4,
 "nbformat_minor": 2
}
