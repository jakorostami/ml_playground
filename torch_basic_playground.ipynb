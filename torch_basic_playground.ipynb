{
 "cells": [
  {
   "cell_type": "code",
   "execution_count": null,
   "metadata": {},
   "outputs": [],
   "source": [
    "import torch\n",
    "from torch import nn\n",
    "import matplotlib.pyplot as plt\n"
   ]
  },
  {
   "cell_type": "code",
   "execution_count": null,
   "metadata": {},
   "outputs": [],
   "source": [
    "# Setup device-agnostic code\n",
    "device = \"cuda:0\" if torch.cuda.is_available() else \"cpu\"\n",
    "device\n",
    "\n"
   ]
  },
  {
   "cell_type": "code",
   "execution_count": null,
   "metadata": {},
   "outputs": [],
   "source": [
    "mat = torch.tensor([[3,4], [4,4], [1, 0]])\n",
    "mat"
   ]
  },
  {
   "cell_type": "code",
   "execution_count": null,
   "metadata": {},
   "outputs": [],
   "source": [
    "tens = torch.tensor([[[1,2,3],\n",
    "                      [3, 6, 9],\n",
    "                      [2, 4, 5]]])\n",
    "\n",
    "tens"
   ]
  },
  {
   "cell_type": "code",
   "execution_count": null,
   "metadata": {},
   "outputs": [],
   "source": [
    "tens2 = torch.tensor([[[1, 2, 3],\n",
    "                       [3, 6, 9],\n",
    "                       [2, 4, 5]],\n",
    "                      \n",
    "                      [[9, 9, 1],\n",
    "                       [4, 1, 0],\n",
    "                       [7, 5, 3]]])\n",
    "\n",
    "tens2"
   ]
  },
  {
   "cell_type": "code",
   "execution_count": null,
   "metadata": {},
   "outputs": [],
   "source": [
    "tens2.shape"
   ]
  },
  {
   "cell_type": "code",
   "execution_count": null,
   "metadata": {},
   "outputs": [],
   "source": [
    "tens.squeeze().size()"
   ]
  },
  {
   "cell_type": "code",
   "execution_count": null,
   "metadata": {},
   "outputs": [],
   "source": [
    "random_tensor = torch.rand(size=(3,3,4))\n",
    "random_tensor"
   ]
  },
  {
   "cell_type": "code",
   "execution_count": null,
   "metadata": {},
   "outputs": [],
   "source": [
    "random_tensor[0] "
   ]
  },
  {
   "cell_type": "code",
   "execution_count": null,
   "metadata": {},
   "outputs": [],
   "source": [
    "torch.arange(0, 100, step=10)"
   ]
  },
  {
   "cell_type": "code",
   "execution_count": null,
   "metadata": {},
   "outputs": [],
   "source": [
    "\n",
    "\n",
    "# Default datatype for tensors is float32\n",
    "float_32_tensor = torch.tensor([3.0, 6.0, 9.0],\n",
    "                               dtype=None, # defaults to None, which is torch.float32 or whatever datatype is passed\n",
    "                               device=None, # defaults to None, which uses the default tensor type\n",
    "                               requires_grad=False) # if True, operations performed on the tensor are recorded \n",
    "\n",
    "float_32_tensor.shape, float_32_tensor.dtype, float_32_tensor.device\n"
   ]
  },
  {
   "cell_type": "code",
   "execution_count": null,
   "metadata": {},
   "outputs": [],
   "source": [
    "# Create a tensor\n",
    "some_tensor = torch.rand(3, 4)\n",
    "\n",
    "# Find out details about it\n",
    "print(some_tensor)\n",
    "print(f\"Shape of tensor: {some_tensor.shape}\")\n",
    "print(f\"Datatype of tensor: {some_tensor.dtype}\")\n",
    "print(f\"Device tensor is stored on: {some_tensor.device}\") # will default to CPU"
   ]
  },
  {
   "cell_type": "code",
   "execution_count": null,
   "metadata": {},
   "outputs": [],
   "source": [
    "# Create a tensor of values and add a number to it\n",
    "tensor = torch.tensor([1, 2, 3])\n",
    "tensor + 10\n"
   ]
  },
  {
   "cell_type": "code",
   "execution_count": null,
   "metadata": {},
   "outputs": [],
   "source": [
    "n = 2"
   ]
  },
  {
   "cell_type": "code",
   "execution_count": null,
   "metadata": {},
   "outputs": [],
   "source": [
    "a = torch.rand(n, n)\n",
    "b = torch.rand(n, n)\n",
    "torch.matmul(a, b)"
   ]
  },
  {
   "cell_type": "code",
   "execution_count": null,
   "metadata": {},
   "outputs": [],
   "source": [
    "a = torch.rand(n, n).to(device)\n",
    "b = torch.rand(n, n).to(device)\n",
    "torch.matmul(a, b)"
   ]
  },
  {
   "cell_type": "code",
   "execution_count": null,
   "metadata": {},
   "outputs": [],
   "source": [
    "a"
   ]
  },
  {
   "cell_type": "code",
   "execution_count": null,
   "metadata": {},
   "outputs": [],
   "source": [
    "b"
   ]
  },
  {
   "cell_type": "code",
   "execution_count": null,
   "metadata": {},
   "outputs": [],
   "source": [
    "a[1][0] * b[0][0] + a[1][1] * b[1][0]"
   ]
  },
  {
   "cell_type": "code",
   "execution_count": null,
   "metadata": {},
   "outputs": [],
   "source": [
    "# Shapes need to be in the right way  \n",
    "tensor_A = torch.tensor([[1, 2],\n",
    "                         [3, 4],\n",
    "                         [5, 6]], dtype=torch.float32)\n",
    "\n",
    "tensor_B = torch.tensor([[7, 10],\n",
    "                         [8, 11], \n",
    "                         [9, 12]], dtype=torch.float32).T\n",
    "\n",
    "torch.matmul(tensor_A, tensor_B) # (this will error)"
   ]
  },
  {
   "cell_type": "code",
   "execution_count": null,
   "metadata": {},
   "outputs": [],
   "source": [
    "# Since the linear layer starts with a random weights matrix, let's make it reproducible (more on this later)\n",
    "torch.manual_seed(42)\n",
    "# This uses matrix multiplication\n",
    "linear = torch.nn.Linear(in_features=2, # in_features = matches inner dimension of input \n",
    "                         out_features=6,\n",
    "                         device=None) # out_features = describes outer value \n",
    "x = tensor_A\n",
    "output = linear(x)\n",
    "print(f\"Input shape: {x.shape}\\n\")\n",
    "print(f\"Output:\\n{output}\\n\\nOutput shape: {output.shape}\")\n"
   ]
  },
  {
   "cell_type": "code",
   "execution_count": null,
   "metadata": {},
   "outputs": [],
   "source": [
    "torch.matmul(x, torch.rand(size=(x.shape[1], 6)))"
   ]
  },
  {
   "cell_type": "code",
   "execution_count": null,
   "metadata": {},
   "outputs": [],
   "source": [
    "torch.rand(size=(2,2)).argmax()"
   ]
  },
  {
   "cell_type": "code",
   "execution_count": 1,
   "metadata": {},
   "outputs": [
    {
     "name": "stderr",
     "output_type": "stream",
     "text": [
      "c:\\Users\\jako\\Anaconda3\\envs\\jako_testar\\lib\\site-packages\\numpy\\_distributor_init.py:30: UserWarning: loaded more than 1 DLL from .libs:\n",
      "c:\\Users\\jako\\Anaconda3\\envs\\jako_testar\\lib\\site-packages\\numpy\\.libs\\libopenblas.FB5AE2TYXYH2IJRDKGDGQ3XBKLKTF43H.gfortran-win_amd64.dll\n",
      "c:\\Users\\jako\\Anaconda3\\envs\\jako_testar\\lib\\site-packages\\numpy\\.libs\\libopenblas.NOIJJG62EMASZI6NYURL6JBKM4EVBGM7.gfortran-win_amd64.dll\n",
      "c:\\Users\\jako\\Anaconda3\\envs\\jako_testar\\lib\\site-packages\\numpy\\.libs\\libopenblas.QVLO2T66WEPI7JZ63PS3HMOHFEY472BC.gfortran-win_amd64.dll\n",
      "  warnings.warn(\"loaded more than 1 DLL from .libs:\"\n"
     ]
    },
    {
     "data": {
      "text/plain": [
       "'cuda:0'"
      ]
     },
     "execution_count": 1,
     "metadata": {},
     "output_type": "execute_result"
    }
   ],
   "source": [
    "import torch\n",
    "from torch import nn\n",
    "import matplotlib.pyplot as plt\n",
    "\n",
    "# Setup device-agnostic code\n",
    "device = \"cuda:0\" if torch.cuda.is_available() else \"cpu\"\n",
    "device"
   ]
  },
  {
   "cell_type": "code",
   "execution_count": 98,
   "metadata": {},
   "outputs": [
    {
     "data": {
      "text/plain": [
       "(tensor([[0.0000],\n",
       "         [0.0200],\n",
       "         [0.0400],\n",
       "         [0.0600],\n",
       "         [0.0800],\n",
       "         [0.1000],\n",
       "         [0.1200],\n",
       "         [0.1400],\n",
       "         [0.1600],\n",
       "         [0.1800]]),\n",
       " tensor([[0.8080],\n",
       "         [0.8220],\n",
       "         [0.8360],\n",
       "         [0.8500],\n",
       "         [0.8640],\n",
       "         [0.8780],\n",
       "         [0.8920],\n",
       "         [0.9060],\n",
       "         [0.9200],\n",
       "         [0.9340]]))"
      ]
     },
     "execution_count": 98,
     "metadata": {},
     "output_type": "execute_result"
    }
   ],
   "source": [
    "# Create *known* parameters\n",
    "# weight = 0.7\n",
    "\n",
    "# Create data\n",
    "start = 0\n",
    "end = 1\n",
    "step = 0.02\n",
    "X = torch.arange(start, end, step).unsqueeze(dim=1)\n",
    "weight = 0.7\n",
    "bias = torch.rand(1)\n",
    "y = weight * X + bias\n",
    "\n",
    "X[:10], y[:10]"
   ]
  },
  {
   "cell_type": "code",
   "execution_count": 99,
   "metadata": {},
   "outputs": [],
   "source": [
    "train_split = int(0.8 * len(X))\n",
    "X_train, y_train = X[:train_split], y[:train_split]\n",
    "X_test, y_test = X[train_split:], y[train_split:]\n"
   ]
  },
  {
   "cell_type": "code",
   "execution_count": 100,
   "metadata": {},
   "outputs": [],
   "source": [
    "def plot_predictions(train_data=X_train, \n",
    "                     train_labels=y_train, \n",
    "                     test_data=X_test, \n",
    "                     test_labels=y_test, \n",
    "                     predictions=None):\n",
    "  \"\"\"\n",
    "  Plots training data, test data and compares predictions.\n",
    "  \"\"\"\n",
    "  plt.figure(figsize=(10, 7))\n",
    "\n",
    "  # Plot training data in blue\n",
    "  plt.scatter(train_data, train_labels, c=\"b\", s=4, label=\"Training data\")\n",
    "  \n",
    "  # Plot test data in green\n",
    "  plt.scatter(test_data, test_labels, c=\"g\", s=4, label=\"Testing data\")\n",
    "\n",
    "  if predictions is not None:\n",
    "    # Plot the predictions in red (predictions were made on the test data)\n",
    "    plt.scatter(test_data, predictions, c=\"r\", s=4, label=\"Predictions\")\n",
    "\n",
    "  # Show the legend\n",
    "  plt.legend(prop={\"size\": 14});\n"
   ]
  },
  {
   "cell_type": "code",
   "execution_count": 101,
   "metadata": {},
   "outputs": [
    {
     "data": {
      "image/png": "[encoded data removed]",
      "text/plain": [
       "<Figure size 1000x700 with 1 Axes>"
      ]
     },
     "metadata": {},
     "output_type": "display_data"
    }
   ],
   "source": [
    "plot_predictions()"
   ]
  },
  {
   "cell_type": "code",
   "execution_count": 103,
   "metadata": {},
   "outputs": [],
   "source": [
    "# Create a Linear Regression model class\n",
    "from torch import nn\n",
    "\n",
    "class LinearRegressionModel(nn.Module): # <- almost everything in PyTorch is a nn.Module (think of this as neural network lego blocks)\n",
    "    def __init__(self):\n",
    "        super().__init__() \n",
    "        self.weights = nn.Parameter(torch.randn(1, # <- start with random weights (this will get adjusted as the model learns)\n",
    "                                                dtype=torch.float), # <- PyTorch loves float32 by default\n",
    "                                   requires_grad=True) # <- can we update this value with gradient descent?)\n",
    "\n",
    "        self.bias = nn.Parameter(torch.randn(1, # <- start with random bias (this will get adjusted as the model learns)\n",
    "                                            dtype=torch.float), # <- PyTorch loves float32 by default\n",
    "                                requires_grad=True) # <- can we update this value with gradient descent?))\n",
    "\n",
    "    # Forward defines the computation in the model\n",
    "    def forward(self, x: torch.Tensor) -> torch.Tensor: # <- \"x\" is the input data (e.g. training/testing features)\n",
    "        return self.weights * x + self.bias # <- this is the linear regression formula (y = m*x + b)"
   ]
  },
  {
   "cell_type": "code",
   "execution_count": 104,
   "metadata": {},
   "outputs": [
    {
     "data": {
      "text/plain": [
       "[Parameter containing:\n",
       " tensor([-1.5809], requires_grad=True),\n",
       " Parameter containing:\n",
       " tensor([-0.2329], requires_grad=True)]"
      ]
     },
     "execution_count": 104,
     "metadata": {},
     "output_type": "execute_result"
    }
   ],
   "source": [
    "model_0 = LinearRegressionModel()\n",
    "list(model_0.parameters())"
   ]
  },
  {
   "cell_type": "code",
   "execution_count": 105,
   "metadata": {},
   "outputs": [
    {
     "data": {
      "text/plain": [
       "OrderedDict([('weights', tensor([-1.5809])), ('bias', tensor([-0.2329]))])"
      ]
     },
     "execution_count": 105,
     "metadata": {},
     "output_type": "execute_result"
    }
   ],
   "source": [
    "model_0.state_dict()"
   ]
  },
  {
   "cell_type": "code",
   "execution_count": 106,
   "metadata": {},
   "outputs": [],
   "source": [
    "with torch.inference_mode():\n",
    "    y_preds = model_0(X_test)"
   ]
  },
  {
   "cell_type": "code",
   "execution_count": 107,
   "metadata": {},
   "outputs": [
    {
     "name": "stdout",
     "output_type": "stream",
     "text": [
      "Number of testing samples: 10\n",
      "Number of predictions made: 10\n",
      "Predicted values:\n",
      "tensor([[-1.4976],\n",
      "        [-1.5292],\n",
      "        [-1.5608],\n",
      "        [-1.5924],\n",
      "        [-1.6241],\n",
      "        [-1.6557],\n",
      "        [-1.6873],\n",
      "        [-1.7189],\n",
      "        [-1.7505],\n",
      "        [-1.7821]])\n"
     ]
    }
   ],
   "source": [
    "# Check the predictions\n",
    "print(f\"Number of testing samples: {len(X_test)}\") \n",
    "print(f\"Number of predictions made: {len(y_preds)}\")\n",
    "print(f\"Predicted values:\\n{y_preds}\")"
   ]
  },
  {
   "cell_type": "code",
   "execution_count": 108,
   "metadata": {},
   "outputs": [
    {
     "data": {
      "image/png": "[encoded data removed]",
      "text/plain": [
       "<Figure size 1000x700 with 1 Axes>"
      ]
     },
     "metadata": {},
     "output_type": "display_data"
    }
   ],
   "source": [
    "plot_predictions(predictions=y_preds)"
   ]
  },
  {
   "cell_type": "code",
   "execution_count": 109,
   "metadata": {},
   "outputs": [
    {
     "data": {
      "text/plain": [
       "0.7"
      ]
     },
     "execution_count": 109,
     "metadata": {},
     "output_type": "execute_result"
    }
   ],
   "source": [
    "weight"
   ]
  },
  {
   "cell_type": "code",
   "execution_count": 110,
   "metadata": {},
   "outputs": [],
   "source": [
    "# Create the loss function\n",
    "loss_fn = nn.MSELoss() # MAE loss is same as L1Loss\n",
    "\n",
    "# Create the optimizer\n",
    "optimizer = torch.optim.SGD(params=model_0.parameters(), # parameters of target model to optimize\n",
    "                            lr=0.01) # learning rate (how much the optimizer should change parameters at each step, higher=more (less stable), lower=less (might take a long time))"
   ]
  },
  {
   "cell_type": "code",
   "execution_count": 124,
   "metadata": {},
   "outputs": [
    {
     "name": "stdout",
     "output_type": "stream",
     "text": [
      "Epoch: 0 | MAE Train Loss: 8.197451745184381e-11 | MAE Test Loss: 3.2598421184637516e-10 \n",
      "Epoch: 10 | MAE Train Loss: 8.197451745184381e-11 | MAE Test Loss: 3.2598421184637516e-10 \n",
      "Epoch: 20 | MAE Train Loss: 8.197451745184381e-11 | MAE Test Loss: 3.2598421184637516e-10 \n",
      "Epoch: 30 | MAE Train Loss: 8.197451745184381e-11 | MAE Test Loss: 3.2598421184637516e-10 \n",
      "Epoch: 40 | MAE Train Loss: 8.197451745184381e-11 | MAE Test Loss: 3.2598421184637516e-10 \n",
      "Epoch: 50 | MAE Train Loss: 8.197451745184381e-11 | MAE Test Loss: 3.2598421184637516e-10 \n",
      "Epoch: 60 | MAE Train Loss: 8.197451745184381e-11 | MAE Test Loss: 3.2598421184637516e-10 \n",
      "Epoch: 70 | MAE Train Loss: 8.197451745184381e-11 | MAE Test Loss: 3.2598421184637516e-10 \n",
      "Epoch: 80 | MAE Train Loss: 8.197451745184381e-11 | MAE Test Loss: 3.2598421184637516e-10 \n",
      "Epoch: 90 | MAE Train Loss: 8.197451745184381e-11 | MAE Test Loss: 3.2598421184637516e-10 \n",
      "Epoch: 100 | MAE Train Loss: 8.197451745184381e-11 | MAE Test Loss: 3.2598421184637516e-10 \n",
      "Epoch: 110 | MAE Train Loss: 8.197451745184381e-11 | MAE Test Loss: 3.2598421184637516e-10 \n",
      "Epoch: 120 | MAE Train Loss: 8.197451745184381e-11 | MAE Test Loss: 3.2598421184637516e-10 \n",
      "Epoch: 130 | MAE Train Loss: 8.197451745184381e-11 | MAE Test Loss: 3.2598421184637516e-10 \n",
      "Epoch: 140 | MAE Train Loss: 8.197451745184381e-11 | MAE Test Loss: 3.2598421184637516e-10 \n",
      "Epoch: 150 | MAE Train Loss: 8.197451745184381e-11 | MAE Test Loss: 3.2598421184637516e-10 \n",
      "Epoch: 160 | MAE Train Loss: 8.197451745184381e-11 | MAE Test Loss: 3.2598421184637516e-10 \n",
      "Epoch: 170 | MAE Train Loss: 8.197451745184381e-11 | MAE Test Loss: 3.2598421184637516e-10 \n",
      "Epoch: 180 | MAE Train Loss: 8.197451745184381e-11 | MAE Test Loss: 3.2598421184637516e-10 \n",
      "Epoch: 190 | MAE Train Loss: 8.197451745184381e-11 | MAE Test Loss: 3.2598421184637516e-10 \n",
      "Epoch: 200 | MAE Train Loss: 8.197451745184381e-11 | MAE Test Loss: 3.2598421184637516e-10 \n",
      "Epoch: 210 | MAE Train Loss: 8.197451745184381e-11 | MAE Test Loss: 3.2598421184637516e-10 \n",
      "Epoch: 220 | MAE Train Loss: 8.197451745184381e-11 | MAE Test Loss: 3.2598421184637516e-10 \n",
      "Epoch: 230 | MAE Train Loss: 8.197451745184381e-11 | MAE Test Loss: 3.2598421184637516e-10 \n",
      "Epoch: 240 | MAE Train Loss: 8.197451745184381e-11 | MAE Test Loss: 3.2598421184637516e-10 \n",
      "Epoch: 250 | MAE Train Loss: 8.197451745184381e-11 | MAE Test Loss: 3.2598421184637516e-10 \n",
      "Epoch: 260 | MAE Train Loss: 8.197451745184381e-11 | MAE Test Loss: 3.2598421184637516e-10 \n",
      "Epoch: 270 | MAE Train Loss: 8.197451745184381e-11 | MAE Test Loss: 3.2598421184637516e-10 \n",
      "Epoch: 280 | MAE Train Loss: 8.197451745184381e-11 | MAE Test Loss: 3.2598421184637516e-10 \n",
      "Epoch: 290 | MAE Train Loss: 8.197451745184381e-11 | MAE Test Loss: 3.2598421184637516e-10 \n",
      "Epoch: 300 | MAE Train Loss: 8.197451745184381e-11 | MAE Test Loss: 3.2598421184637516e-10 \n",
      "Epoch: 310 | MAE Train Loss: 8.197451745184381e-11 | MAE Test Loss: 3.2598421184637516e-10 \n",
      "Epoch: 320 | MAE Train Loss: 8.197451745184381e-11 | MAE Test Loss: 3.2598421184637516e-10 \n",
      "Epoch: 330 | MAE Train Loss: 8.197451745184381e-11 | MAE Test Loss: 3.2598421184637516e-10 \n",
      "Epoch: 340 | MAE Train Loss: 8.197451745184381e-11 | MAE Test Loss: 3.2598421184637516e-10 \n",
      "Epoch: 350 | MAE Train Loss: 8.197451745184381e-11 | MAE Test Loss: 3.2598421184637516e-10 \n",
      "Epoch: 360 | MAE Train Loss: 8.197451745184381e-11 | MAE Test Loss: 3.2598421184637516e-10 \n",
      "Epoch: 370 | MAE Train Loss: 8.197451745184381e-11 | MAE Test Loss: 3.2598421184637516e-10 \n",
      "Epoch: 380 | MAE Train Loss: 8.197451745184381e-11 | MAE Test Loss: 3.2598421184637516e-10 \n",
      "Epoch: 390 | MAE Train Loss: 8.197451745184381e-11 | MAE Test Loss: 3.2598421184637516e-10 \n",
      "Epoch: 400 | MAE Train Loss: 8.197451745184381e-11 | MAE Test Loss: 3.2598421184637516e-10 \n",
      "Epoch: 410 | MAE Train Loss: 8.197451745184381e-11 | MAE Test Loss: 3.2598421184637516e-10 \n",
      "Epoch: 420 | MAE Train Loss: 8.197451745184381e-11 | MAE Test Loss: 3.2598421184637516e-10 \n",
      "Epoch: 430 | MAE Train Loss: 8.197451745184381e-11 | MAE Test Loss: 3.2598421184637516e-10 \n",
      "Epoch: 440 | MAE Train Loss: 8.197451745184381e-11 | MAE Test Loss: 3.2598421184637516e-10 \n",
      "Epoch: 450 | MAE Train Loss: 8.197451745184381e-11 | MAE Test Loss: 3.2598421184637516e-10 \n",
      "Epoch: 460 | MAE Train Loss: 8.197451745184381e-11 | MAE Test Loss: 3.2598421184637516e-10 \n",
      "Epoch: 470 | MAE Train Loss: 8.197451745184381e-11 | MAE Test Loss: 3.2598421184637516e-10 \n",
      "Epoch: 480 | MAE Train Loss: 8.197451745184381e-11 | MAE Test Loss: 3.2598421184637516e-10 \n",
      "Epoch: 490 | MAE Train Loss: 8.197451745184381e-11 | MAE Test Loss: 3.2598421184637516e-10 \n",
      "Epoch: 500 | MAE Train Loss: 8.197451745184381e-11 | MAE Test Loss: 3.2598421184637516e-10 \n",
      "Epoch: 510 | MAE Train Loss: 8.197451745184381e-11 | MAE Test Loss: 3.2598421184637516e-10 \n",
      "Epoch: 520 | MAE Train Loss: 8.197451745184381e-11 | MAE Test Loss: 3.2598421184637516e-10 \n",
      "Epoch: 530 | MAE Train Loss: 8.197451745184381e-11 | MAE Test Loss: 3.2598421184637516e-10 \n",
      "Epoch: 540 | MAE Train Loss: 8.197451745184381e-11 | MAE Test Loss: 3.2598421184637516e-10 \n",
      "Epoch: 550 | MAE Train Loss: 8.197451745184381e-11 | MAE Test Loss: 3.2598421184637516e-10 \n",
      "Epoch: 560 | MAE Train Loss: 8.197451745184381e-11 | MAE Test Loss: 3.2598421184637516e-10 \n",
      "Epoch: 570 | MAE Train Loss: 8.197451745184381e-11 | MAE Test Loss: 3.2598421184637516e-10 \n",
      "Epoch: 580 | MAE Train Loss: 8.197451745184381e-11 | MAE Test Loss: 3.2598421184637516e-10 \n",
      "Epoch: 590 | MAE Train Loss: 8.197451745184381e-11 | MAE Test Loss: 3.2598421184637516e-10 \n",
      "Epoch: 600 | MAE Train Loss: 8.197451745184381e-11 | MAE Test Loss: 3.2598421184637516e-10 \n",
      "Epoch: 610 | MAE Train Loss: 8.197451745184381e-11 | MAE Test Loss: 3.2598421184637516e-10 \n",
      "Epoch: 620 | MAE Train Loss: 8.197451745184381e-11 | MAE Test Loss: 3.2598421184637516e-10 \n",
      "Epoch: 630 | MAE Train Loss: 8.197451745184381e-11 | MAE Test Loss: 3.2598421184637516e-10 \n",
      "Epoch: 640 | MAE Train Loss: 8.197451745184381e-11 | MAE Test Loss: 3.2598421184637516e-10 \n",
      "Epoch: 650 | MAE Train Loss: 8.197451745184381e-11 | MAE Test Loss: 3.2598421184637516e-10 \n",
      "Epoch: 660 | MAE Train Loss: 8.197451745184381e-11 | MAE Test Loss: 3.2598421184637516e-10 \n",
      "Epoch: 670 | MAE Train Loss: 8.197451745184381e-11 | MAE Test Loss: 3.2598421184637516e-10 \n",
      "Epoch: 680 | MAE Train Loss: 8.197451745184381e-11 | MAE Test Loss: 3.2598421184637516e-10 \n",
      "Epoch: 690 | MAE Train Loss: 8.197451745184381e-11 | MAE Test Loss: 3.2598421184637516e-10 \n",
      "Epoch: 700 | MAE Train Loss: 8.197451745184381e-11 | MAE Test Loss: 3.2598421184637516e-10 \n",
      "Epoch: 710 | MAE Train Loss: 8.197451745184381e-11 | MAE Test Loss: 3.2598421184637516e-10 \n",
      "Epoch: 720 | MAE Train Loss: 8.197451745184381e-11 | MAE Test Loss: 3.2598421184637516e-10 \n",
      "Epoch: 730 | MAE Train Loss: 8.197451745184381e-11 | MAE Test Loss: 3.2598421184637516e-10 \n",
      "Epoch: 740 | MAE Train Loss: 8.197451745184381e-11 | MAE Test Loss: 3.2598421184637516e-10 \n",
      "Epoch: 750 | MAE Train Loss: 8.197451745184381e-11 | MAE Test Loss: 3.2598421184637516e-10 \n",
      "Epoch: 760 | MAE Train Loss: 8.197451745184381e-11 | MAE Test Loss: 3.2598421184637516e-10 \n",
      "Epoch: 770 | MAE Train Loss: 8.197451745184381e-11 | MAE Test Loss: 3.2598421184637516e-10 \n",
      "Epoch: 780 | MAE Train Loss: 8.197451745184381e-11 | MAE Test Loss: 3.2598421184637516e-10 \n",
      "Epoch: 790 | MAE Train Loss: 8.197451745184381e-11 | MAE Test Loss: 3.2598421184637516e-10 \n",
      "Epoch: 800 | MAE Train Loss: 8.197451745184381e-11 | MAE Test Loss: 3.2598421184637516e-10 \n",
      "Epoch: 810 | MAE Train Loss: 8.197451745184381e-11 | MAE Test Loss: 3.2598421184637516e-10 \n",
      "Epoch: 820 | MAE Train Loss: 8.197451745184381e-11 | MAE Test Loss: 3.2598421184637516e-10 \n",
      "Epoch: 830 | MAE Train Loss: 8.197451745184381e-11 | MAE Test Loss: 3.2598421184637516e-10 \n",
      "Epoch: 840 | MAE Train Loss: 8.197451745184381e-11 | MAE Test Loss: 3.2598421184637516e-10 \n",
      "Epoch: 850 | MAE Train Loss: 8.197451745184381e-11 | MAE Test Loss: 3.2598421184637516e-10 \n",
      "Epoch: 860 | MAE Train Loss: 8.197451745184381e-11 | MAE Test Loss: 3.2598421184637516e-10 \n",
      "Epoch: 870 | MAE Train Loss: 8.197451745184381e-11 | MAE Test Loss: 3.2598421184637516e-10 \n",
      "Epoch: 880 | MAE Train Loss: 8.197451745184381e-11 | MAE Test Loss: 3.2598421184637516e-10 \n",
      "Epoch: 890 | MAE Train Loss: 8.197451745184381e-11 | MAE Test Loss: 3.2598421184637516e-10 \n",
      "Epoch: 900 | MAE Train Loss: 8.197451745184381e-11 | MAE Test Loss: 3.2598421184637516e-10 \n",
      "Epoch: 910 | MAE Train Loss: 8.197451745184381e-11 | MAE Test Loss: 3.2598421184637516e-10 \n",
      "Epoch: 920 | MAE Train Loss: 8.197451745184381e-11 | MAE Test Loss: 3.2598421184637516e-10 \n",
      "Epoch: 930 | MAE Train Loss: 8.197451745184381e-11 | MAE Test Loss: 3.2598421184637516e-10 \n",
      "Epoch: 940 | MAE Train Loss: 8.197451745184381e-11 | MAE Test Loss: 3.2598421184637516e-10 \n",
      "Epoch: 950 | MAE Train Loss: 8.197451745184381e-11 | MAE Test Loss: 3.2598421184637516e-10 \n",
      "Epoch: 960 | MAE Train Loss: 8.197451745184381e-11 | MAE Test Loss: 3.2598421184637516e-10 \n",
      "Epoch: 970 | MAE Train Loss: 8.197451745184381e-11 | MAE Test Loss: 3.2598421184637516e-10 \n",
      "Epoch: 980 | MAE Train Loss: 8.197451745184381e-11 | MAE Test Loss: 3.2598421184637516e-10 \n",
      "Epoch: 990 | MAE Train Loss: 8.197451745184381e-11 | MAE Test Loss: 3.2598421184637516e-10 \n"
     ]
    }
   ],
   "source": [
    "torch.manual_seed(42)\n",
    "\n",
    "# Set the number of epochs (how many times the model will pass over the training data)\n",
    "epochs = 1000\n",
    "\n",
    "# Create empty loss lists to track values\n",
    "train_loss_values = []\n",
    "test_loss_values = []\n",
    "epoch_count = []\n",
    "\n",
    "for epoch in range(epochs):\n",
    "    ### Training\n",
    "\n",
    "    # Put model in training mode (this is the default state of a model)\n",
    "    model_0.train()\n",
    "\n",
    "    # 1. Forward pass on train data using the forward() method inside \n",
    "    y_pred = model_0(X_train)\n",
    "    # print(y_pred)\n",
    "\n",
    "    # 2. Calculate the loss (how different are our models predictions to the ground truth)\n",
    "    loss = loss_fn(y_pred, y_train)\n",
    "\n",
    "    # 3. Zero grad of the optimizer\n",
    "    optimizer.zero_grad()\n",
    "\n",
    "    # 4. Loss backwards\n",
    "    loss.backward()\n",
    "\n",
    "    # 5. Progress the optimizer\n",
    "    optimizer.step()\n",
    "\n",
    "    ### Testing\n",
    "\n",
    "    # Put the model in evaluation mode\n",
    "    model_0.eval()\n",
    "\n",
    "    with torch.inference_mode():\n",
    "      # 1. Forward pass on test data\n",
    "      test_pred = model_0(X_test)\n",
    "\n",
    "      # 2. Caculate loss on test data\n",
    "      test_loss = loss_fn(test_pred, y_test.type(torch.float)) # predictions come in torch.float datatype, so comparisons need to be done with tensors of the same type\n",
    "\n",
    "      # Print out what's happening\n",
    "      if epoch % 10 == 0:\n",
    "            epoch_count.append(epoch)\n",
    "            train_loss_values.append(loss.detach().numpy())\n",
    "            test_loss_values.append(test_loss.detach().numpy())\n",
    "            print(f\"Epoch: {epoch} | MAE Train Loss: {loss} | MAE Test Loss: {test_loss} \")"
   ]
  },
  {
   "cell_type": "code",
   "execution_count": 125,
   "metadata": {},
   "outputs": [
    {
     "data": {
      "text/plain": [
       "<matplotlib.legend.Legend at 0x19f89861340>"
      ]
     },
     "execution_count": 125,
     "metadata": {},
     "output_type": "execute_result"
    },
    {
     "data": {
      "image/png": "[encoded data removed]",
      "text/plain": [
       "<Figure size 640x480 with 1 Axes>"
      ]
     },
     "metadata": {},
     "output_type": "display_data"
    }
   ],
   "source": [
    "# Plot the loss curves\n",
    "plt.plot(epoch_count, train_loss_values, label=\"Train loss\")\n",
    "plt.plot(epoch_count, test_loss_values, label=\"Test loss\")\n",
    "plt.title(\"Training and test loss curves\")\n",
    "plt.ylabel(\"Loss\")\n",
    "plt.xlabel(\"Epochs\")\n",
    "plt.legend()"
   ]
  },
  {
   "cell_type": "code",
   "execution_count": 129,
   "metadata": {},
   "outputs": [
    {
     "name": "stdout",
     "output_type": "stream",
     "text": [
      "The model learned the following values for weights and bias:\n",
      "OrderedDict([('weights', tensor([0.7000])), ('bias', tensor([0.8081]))])\n",
      "\n",
      "And the original values for weights and bias are:\n",
      "weights: 0.7, bias: tensor([0.8080])\n"
     ]
    }
   ],
   "source": [
    "# Find our model's learned parameters\n",
    "print(\"The model learned the following values for weights and bias:\")\n",
    "print(model_0.state_dict())\n",
    "print(\"\\nAnd the original values for weights and bias are:\")\n",
    "print(f\"weights: {weight}, bias: {bias}\")"
   ]
  },
  {
   "cell_type": "code",
   "execution_count": 131,
   "metadata": {},
   "outputs": [],
   "source": [
    "model_0.eval()\n",
    "\n",
    "with torch.inference_mode():\n",
    "    model_0.to(device)\n",
    "    X_test = X_test.to(device)\n",
    "    y_preds = model_0(X_test)"
   ]
  },
  {
   "cell_type": "code",
   "execution_count": 135,
   "metadata": {},
   "outputs": [
    {
     "data": {
      "image/png": "[encoded data removed]",
      "text/plain": [
       "<Figure size 1000x700 with 1 Axes>"
      ]
     },
     "metadata": {},
     "output_type": "display_data"
    }
   ],
   "source": [
    "plot_predictions(predictions=y_preds.cpu())"
   ]
  },
  {
   "cell_type": "code",
   "execution_count": 136,
   "metadata": {},
   "outputs": [
    {
     "name": "stdout",
     "output_type": "stream",
     "text": [
      "Saving model to: models\\01_pytorch_workflow_model_0.pth\n"
     ]
    }
   ],
   "source": [
    "from pathlib import Path\n",
    "\n",
    "# 1. Create models directory \n",
    "MODEL_PATH = Path(\"models\")\n",
    "MODEL_PATH.mkdir(parents=True, exist_ok=True)\n",
    "\n",
    "# 2. Create model save path \n",
    "MODEL_NAME = \"01_pytorch_workflow_model_0.pth\"\n",
    "MODEL_SAVE_PATH = MODEL_PATH / MODEL_NAME\n",
    "\n",
    "# 3. Save the model state dict \n",
    "print(f\"Saving model to: {MODEL_SAVE_PATH}\")\n",
    "torch.save(obj=model_0.state_dict(), # only saving the state_dict() only saves the models learned parameters\n",
    "           f=MODEL_SAVE_PATH)\n"
   ]
  },
  {
   "cell_type": "code",
   "execution_count": 144,
   "metadata": {},
   "outputs": [
    {
     "data": {
      "text/plain": [
       "<All keys matched successfully>"
      ]
     },
     "execution_count": 144,
     "metadata": {},
     "output_type": "execute_result"
    }
   ],
   "source": [
    "loaded_model_0 = LinearRegressionModel()\n",
    "loaded_model_0.load_state_dict(torch.load(MODEL_SAVE_PATH))"
   ]
  },
  {
   "cell_type": "code",
   "execution_count": 146,
   "metadata": {},
   "outputs": [],
   "source": [
    "loaded_model_0.eval()\n",
    "\n",
    "with torch.inference_mode():\n",
    "    loaded_model_preds = loaded_model_0(X_test.cpu())"
   ]
  },
  {
   "cell_type": "code",
   "execution_count": 149,
   "metadata": {},
   "outputs": [
    {
     "data": {
      "text/plain": [
       "(tensor([[1.3680],\n",
       "         [1.3820],\n",
       "         [1.3960],\n",
       "         [1.4100],\n",
       "         [1.4240],\n",
       "         [1.4380],\n",
       "         [1.4520],\n",
       "         [1.4660],\n",
       "         [1.4800],\n",
       "         [1.4940]]),\n",
       " tensor([[1.3680],\n",
       "         [1.3820],\n",
       "         [1.3960],\n",
       "         [1.4100],\n",
       "         [1.4240],\n",
       "         [1.4380],\n",
       "         [1.4520],\n",
       "         [1.4660],\n",
       "         [1.4800],\n",
       "         [1.4940]], device='cuda:0'))"
      ]
     },
     "execution_count": 149,
     "metadata": {},
     "output_type": "execute_result"
    }
   ],
   "source": [
    "loaded_model_preds, y_preds"
   ]
  },
  {
   "cell_type": "code",
   "execution_count": 150,
   "metadata": {},
   "outputs": [
    {
     "data": {
      "text/plain": [
       "(tensor([[0.0000],\n",
       "         [0.0200],\n",
       "         [0.0400],\n",
       "         [0.0600],\n",
       "         [0.0800],\n",
       "         [0.1000],\n",
       "         [0.1200],\n",
       "         [0.1400],\n",
       "         [0.1600],\n",
       "         [0.1800]]),\n",
       " tensor([[0.3000],\n",
       "         [0.3140],\n",
       "         [0.3280],\n",
       "         [0.3420],\n",
       "         [0.3560],\n",
       "         [0.3700],\n",
       "         [0.3840],\n",
       "         [0.3980],\n",
       "         [0.4120],\n",
       "         [0.4260]]))"
      ]
     },
     "execution_count": 150,
     "metadata": {},
     "output_type": "execute_result"
    }
   ],
   "source": [
    "# Create weight and bias\n",
    "weight = 0.7\n",
    "bias = 0.3\n",
    "\n",
    "# Create range values\n",
    "start = 0\n",
    "end = 1\n",
    "step = 0.02\n",
    "\n",
    "# Create X and y (features and labels)\n",
    "X = torch.arange(start, end, step).unsqueeze(dim=1) # without unsqueeze, errors will happen later on (shapes within linear layers)\n",
    "y = weight * X + bias \n",
    "X[:10], y[:10]"
   ]
  },
  {
   "cell_type": "code",
   "execution_count": 151,
   "metadata": {},
   "outputs": [
    {
     "data": {
      "text/plain": [
       "(40, 40, 10, 10)"
      ]
     },
     "execution_count": 151,
     "metadata": {},
     "output_type": "execute_result"
    }
   ],
   "source": [
    "\n",
    "\n",
    "# Split data\n",
    "train_split = int(0.8 * len(X))\n",
    "X_train, y_train = X[:train_split], y[:train_split]\n",
    "X_test, y_test = X[train_split:], y[train_split:]\n",
    "\n",
    "len(X_train), len(y_train), len(X_test), len(y_test)\n"
   ]
  },
  {
   "cell_type": "code",
   "execution_count": 152,
   "metadata": {},
   "outputs": [
    {
     "data": {
      "image/png": "[encoded data removed]",
      "text/plain": [
       "<Figure size 1000x700 with 1 Axes>"
      ]
     },
     "metadata": {},
     "output_type": "display_data"
    }
   ],
   "source": [
    "# Note: If you've reset your runtime, this function won't work, \n",
    "# you'll have to rerun the cell above where it's instantiated.\n",
    "plot_predictions(X_train, y_train, X_test, y_test)"
   ]
  },
  {
   "cell_type": "code",
   "execution_count": 158,
   "metadata": {},
   "outputs": [
    {
     "data": {
      "text/plain": [
       "(LinearRegressionModelV2(\n",
       "   (linear_layer): Linear(in_features=1, out_features=1, bias=True)\n",
       " ),\n",
       " OrderedDict([('linear_layer.weight', tensor([[0.7645]])),\n",
       "              ('linear_layer.bias', tensor([0.8300]))]))"
      ]
     },
     "execution_count": 158,
     "metadata": {},
     "output_type": "execute_result"
    }
   ],
   "source": [
    "# Subclass nn.Module to make our model\n",
    "class LinearRegressionModelV2(nn.Module):\n",
    "    def __init__(self):\n",
    "        super().__init__()\n",
    "        # Use nn.Linear() for creating the model parameters\n",
    "        self.linear_layer = nn.Linear(in_features=1, \n",
    "                                      out_features=1)\n",
    "    \n",
    "    # Define the forward computation (input data x flows through nn.Linear())\n",
    "    def forward(self, x: torch.Tensor) -> torch.Tensor:\n",
    "        return self.linear_layer(x)\n",
    "\n",
    "# Set the manual seed when creating the model (this isn't always need but is used for demonstrative purposes, try commenting it out and seeing what happens)\n",
    "torch.manual_seed(42)\n",
    "model_1 = LinearRegressionModelV2()\n",
    "model_1, model_1.state_dict()"
   ]
  },
  {
   "cell_type": "code",
   "execution_count": 159,
   "metadata": {},
   "outputs": [
    {
     "data": {
      "text/plain": [
       "device(type='cpu')"
      ]
     },
     "execution_count": 159,
     "metadata": {},
     "output_type": "execute_result"
    }
   ],
   "source": [
    "# Check model device\n",
    "next(model_1.parameters()).device\n"
   ]
  },
  {
   "cell_type": "code",
   "execution_count": 161,
   "metadata": {},
   "outputs": [
    {
     "data": {
      "text/plain": [
       "device(type='cuda', index=0)"
      ]
     },
     "execution_count": 161,
     "metadata": {},
     "output_type": "execute_result"
    }
   ],
   "source": [
    "# Set model to GPU if it's availalble, otherwise it'll default to CPU\n",
    "model_1.to(device) # the device variable was set above to be \"cuda\" if available or \"cpu\" if not\n",
    "next(model_1.parameters()).device\n"
   ]
  },
  {
   "cell_type": "code",
   "execution_count": 162,
   "metadata": {},
   "outputs": [],
   "source": [
    "# Create loss function\n",
    "loss_fn = nn.MSELoss()\n",
    "\n",
    "# Create optimizer\n",
    "optimizer = torch.optim.SGD(params=model_1.parameters(), # optimize newly created model's parameters\n",
    "                            lr=0.01)"
   ]
  },
  {
   "cell_type": "code",
   "execution_count": 167,
   "metadata": {},
   "outputs": [
    {
     "name": "stdout",
     "output_type": "stream",
     "text": [
      "Epoch: 0 | Train loss: 0.00014480651589110494 | Test loss: 0.0006327090668492019\n",
      "Epoch: 100 | Train loss: 0.00012047379277646542 | Test loss: 0.0005263901548460126\n",
      "Epoch: 200 | Train loss: 0.00010022918286267668 | Test loss: 0.0004379366582725197\n",
      "Epoch: 300 | Train loss: 8.338668703800067e-05 | Test loss: 0.0003643475938588381\n",
      "Epoch: 400 | Train loss: 6.937482248758897e-05 | Test loss: 0.00030312183662317693\n",
      "Epoch: 500 | Train loss: 5.771610449301079e-05 | Test loss: 0.0002521800633985549\n",
      "Epoch: 600 | Train loss: 4.801740215043537e-05 | Test loss: 0.00020980472618248314\n",
      "Epoch: 700 | Train loss: 3.994898361270316e-05 | Test loss: 0.000174549815710634\n",
      "Epoch: 800 | Train loss: 3.3236115996260196e-05 | Test loss: 0.00014521913544740528\n",
      "Epoch: 900 | Train loss: 2.7651329219224863e-05 | Test loss: 0.00012081789463991299\n",
      "Epoch: 1000 | Train loss: 2.300474079675041e-05 | Test loss: 0.00010051606659544632\n",
      "Epoch: 1100 | Train loss: 1.9139290088787675e-05 | Test loss: 8.362656808458269e-05\n",
      "Epoch: 1200 | Train loss: 1.592348598933313e-05 | Test loss: 6.957524601602927e-05\n",
      "Epoch: 1300 | Train loss: 1.324766799370991e-05 | Test loss: 5.788336420664564e-05\n",
      "Epoch: 1400 | Train loss: 1.1021636964869685e-05 | Test loss: 4.8157100536627695e-05\n",
      "Epoch: 1500 | Train loss: 9.16972476261435e-06 | Test loss: 4.006537710665725e-05\n",
      "Epoch: 1600 | Train loss: 7.628921139257727e-06 | Test loss: 3.3333475585095584e-05\n",
      "Epoch: 1700 | Train loss: 6.346982445393223e-06 | Test loss: 2.773174492176622e-05\n",
      "Epoch: 1800 | Train loss: 5.28052032677806e-06 | Test loss: 2.307218346686568e-05\n",
      "Epoch: 1900 | Train loss: 4.393240942590637e-06 | Test loss: 1.9195222193957306e-05\n",
      "Epoch: 2000 | Train loss: 3.6549940887198318e-06 | Test loss: 1.596983929630369e-05\n",
      "Epoch: 2100 | Train loss: 3.0409159990085755e-06 | Test loss: 1.3286795365274884e-05\n",
      "Epoch: 2200 | Train loss: 2.530000756451045e-06 | Test loss: 1.1054761671402957e-05\n",
      "Epoch: 2300 | Train loss: 2.104868826791062e-06 | Test loss: 9.196352038998157e-06\n",
      "Epoch: 2400 | Train loss: 1.7511955547888647e-06 | Test loss: 7.651324267499149e-06\n",
      "Epoch: 2500 | Train loss: 1.4569293398380978e-06 | Test loss: 6.365809440467274e-06\n",
      "Epoch: 2600 | Train loss: 1.2121554391342215e-06 | Test loss: 5.295957180351252e-06\n",
      "Epoch: 2700 | Train loss: 1.0085130952575128e-06 | Test loss: 4.406555035529891e-06\n",
      "Epoch: 2800 | Train loss: 8.390529160351434e-07 | Test loss: 3.665925078166765e-06\n",
      "Epoch: 2900 | Train loss: 6.980697548897297e-07 | Test loss: 3.0499666081595933e-06\n",
      "Epoch: 3000 | Train loss: 5.808028618048411e-07 | Test loss: 2.5378064947290113e-06\n",
      "Epoch: 3100 | Train loss: 4.832188551517902e-07 | Test loss: 2.1111536625539884e-06\n",
      "Epoch: 3200 | Train loss: 4.020394896997459e-07 | Test loss: 1.7568017938174307e-06\n",
      "Epoch: 3300 | Train loss: 3.344700019169977e-07 | Test loss: 1.4612962786486605e-06\n",
      "Epoch: 3400 | Train loss: 2.783463912692241e-07 | Test loss: 1.2161461881987634e-06\n",
      "Epoch: 3500 | Train loss: 2.3159189765920019e-07 | Test loss: 1.0117249757968239e-06\n",
      "Epoch: 3600 | Train loss: 1.927049169125894e-07 | Test loss: 8.417794674642209e-07\n",
      "Epoch: 3700 | Train loss: 1.6032240068852843e-07 | Test loss: 7.002966526670207e-07\n",
      "Epoch: 3800 | Train loss: 1.3341573890102154e-07 | Test loss: 5.826636879646685e-07\n",
      "Epoch: 3900 | Train loss: 1.1104048525112376e-07 | Test loss: 4.850026584790612e-07\n",
      "Epoch: 4000 | Train loss: 9.238888765139563e-08 | Test loss: 4.0379464394391107e-07\n",
      "Epoch: 4100 | Train loss: 7.687921055321567e-08 | Test loss: 3.3552234413036786e-07\n",
      "Epoch: 4200 | Train loss: 6.400650676141595e-08 | Test loss: 2.7953305448136234e-07\n",
      "Epoch: 4300 | Train loss: 5.324211116430888e-08 | Test loss: 2.327388273215547e-07\n",
      "Epoch: 4400 | Train loss: 4.434817313381245e-08 | Test loss: 1.9375225690509978e-07\n",
      "Epoch: 4500 | Train loss: 3.6920866364198446e-08 | Test loss: 1.6125336799177603e-07\n",
      "Epoch: 4600 | Train loss: 3.072331722364652e-08 | Test loss: 1.3428237366497342e-07\n",
      "Epoch: 4700 | Train loss: 2.5568462902469946e-08 | Test loss: 1.1162544666376562e-07\n",
      "Epoch: 4800 | Train loss: 2.129215914692395e-08 | Test loss: 9.278014800884193e-08\n",
      "Epoch: 4900 | Train loss: 1.7754768322220116e-08 | Test loss: 7.733478213367562e-08\n",
      "Epoch: 5000 | Train loss: 1.4807334025590535e-08 | Test loss: 6.481765524313232e-08\n",
      "Epoch: 5100 | Train loss: 1.232906754466967e-08 | Test loss: 5.3748511419371425e-08\n",
      "Epoch: 5200 | Train loss: 1.0272407813260998e-08 | Test loss: 4.4900396289904165e-08\n",
      "Epoch: 5300 | Train loss: 8.572770049397604e-09 | Test loss: 3.744213117329309e-08\n",
      "Epoch: 5400 | Train loss: 7.1052030925500276e-09 | Test loss: 3.109206758722394e-08\n",
      "Epoch: 5500 | Train loss: 5.948114445430974e-09 | Test loss: 2.5914713930319522e-08\n",
      "Epoch: 5600 | Train loss: 4.934137987078202e-09 | Test loss: 2.139706900550209e-08\n",
      "Epoch: 5700 | Train loss: 4.14126288816874e-09 | Test loss: 1.8099463261478377e-08\n",
      "Epoch: 5800 | Train loss: 3.4654452640836553e-09 | Test loss: 1.5014832044357718e-08\n",
      "Epoch: 5900 | Train loss: 2.868981274772864e-09 | Test loss: 1.2395486415073265e-08\n",
      "Epoch: 6000 | Train loss: 2.435295076708144e-09 | Test loss: 1.0706490805034719e-08\n",
      "Epoch: 6100 | Train loss: 2.0461048411135607e-09 | Test loss: 8.925098882173188e-09\n",
      "Epoch: 6200 | Train loss: 1.6908936473214453e-09 | Test loss: 7.305690274961307e-09\n",
      "Epoch: 6300 | Train loss: 1.4081050769831904e-09 | Test loss: 6.130204788235005e-09\n",
      "Epoch: 6400 | Train loss: 1.2047099984258125e-09 | Test loss: 5.361068922127288e-09\n",
      "Epoch: 6500 | Train loss: 1.0216308909960503e-09 | Test loss: 4.518486029780888e-09\n",
      "Epoch: 6600 | Train loss: 8.537004991815422e-10 | Test loss: 3.747895327421702e-09\n",
      "Epoch: 6700 | Train loss: 7.009188784934395e-10 | Test loss: 3.049296593005124e-09\n",
      "Epoch: 6800 | Train loss: 5.632860289317421e-10 | Test loss: 2.4226902706203646e-09\n",
      "Epoch: 6900 | Train loss: 4.871468783917976e-10 | Test loss: 2.1406834083137483e-09\n",
      "Epoch: 7000 | Train loss: 4.2667896993364707e-10 | Test loss: 1.9288621810886752e-09\n",
      "Epoch: 7100 | Train loss: 3.7126302032675085e-10 | Test loss: 1.6952900194766585e-09\n",
      "Epoch: 7200 | Train loss: 3.2016719830885165e-10 | Test loss: 1.46039769166606e-09\n",
      "Epoch: 7300 | Train loss: 2.728585413169782e-10 | Test loss: 1.2372272095717562e-09\n",
      "Epoch: 7400 | Train loss: 2.2933709098449384e-10 | Test loss: 1.0351929313756614e-09\n",
      "Epoch: 7500 | Train loss: 1.8960281955582303e-10 | Test loss: 8.511566451652186e-10\n",
      "Epoch: 7600 | Train loss: 1.5365575478654137e-10 | Test loss: 6.851184619627304e-10\n",
      "Epoch: 7700 | Train loss: 1.2149588279886103e-10 | Test loss: 5.370783262570455e-10\n",
      "Epoch: 7800 | Train loss: 9.312319665388813e-11 | Test loss: 4.070361825370128e-10\n",
      "Epoch: 7900 | Train loss: 6.853771022941046e-11 | Test loss: 2.964043177566822e-10\n",
      "Epoch: 8000 | Train loss: 5.93106674884325e-11 | Test loss: 2.553917910486092e-10\n",
      "Epoch: 8100 | Train loss: 5.93106674884325e-11 | Test loss: 2.553917910486092e-10\n",
      "Epoch: 8200 | Train loss: 5.93106674884325e-11 | Test loss: 2.553917910486092e-10\n",
      "Epoch: 8300 | Train loss: 5.93106674884325e-11 | Test loss: 2.553917910486092e-10\n",
      "Epoch: 8400 | Train loss: 5.93106674884325e-11 | Test loss: 2.553917910486092e-10\n",
      "Epoch: 8500 | Train loss: 5.93106674884325e-11 | Test loss: 2.553917910486092e-10\n",
      "Epoch: 8600 | Train loss: 5.93106674884325e-11 | Test loss: 2.553917910486092e-10\n",
      "Epoch: 8700 | Train loss: 5.93106674884325e-11 | Test loss: 2.553917910486092e-10\n",
      "Epoch: 8800 | Train loss: 5.93106674884325e-11 | Test loss: 2.553917910486092e-10\n",
      "Epoch: 8900 | Train loss: 5.93106674884325e-11 | Test loss: 2.553917910486092e-10\n",
      "Epoch: 9000 | Train loss: 5.93106674884325e-11 | Test loss: 2.553917910486092e-10\n",
      "Epoch: 9100 | Train loss: 5.93106674884325e-11 | Test loss: 2.553917910486092e-10\n",
      "Epoch: 9200 | Train loss: 5.93106674884325e-11 | Test loss: 2.553917910486092e-10\n",
      "Epoch: 9300 | Train loss: 5.93106674884325e-11 | Test loss: 2.553917910486092e-10\n",
      "Epoch: 9400 | Train loss: 5.93106674884325e-11 | Test loss: 2.553917910486092e-10\n",
      "Epoch: 9500 | Train loss: 5.93106674884325e-11 | Test loss: 2.553917910486092e-10\n",
      "Epoch: 9600 | Train loss: 5.93106674884325e-11 | Test loss: 2.553917910486092e-10\n",
      "Epoch: 9700 | Train loss: 5.93106674884325e-11 | Test loss: 2.553917910486092e-10\n",
      "Epoch: 9800 | Train loss: 5.93106674884325e-11 | Test loss: 2.553917910486092e-10\n",
      "Epoch: 9900 | Train loss: 5.93106674884325e-11 | Test loss: 2.553917910486092e-10\n"
     ]
    }
   ],
   "source": [
    "torch.manual_seed(42)\n",
    "\n",
    "# Set the number of epochs \n",
    "epochs = 10000 \n",
    "\n",
    "# Put data on the available device\n",
    "# Without this, error will happen (not all model/data on device)\n",
    "X_train = X_train.to(device)\n",
    "X_test = X_test.to(device)\n",
    "y_train = y_train.to(device)\n",
    "y_test = y_test.to(device)\n",
    "\n",
    "for epoch in range(epochs):\n",
    "    ### Training\n",
    "    model_1.train() # train mode is on by default after construction\n",
    "\n",
    "    # 1. Forward pass\n",
    "    y_pred = model_1(X_train)\n",
    "\n",
    "    # 2. Calculate loss\n",
    "    loss = loss_fn(y_pred, y_train)\n",
    "\n",
    "    # 3. Zero grad optimizer\n",
    "    optimizer.zero_grad()\n",
    "\n",
    "    # 4. Loss backward\n",
    "    loss.backward()\n",
    "\n",
    "    # 5. Step the optimizer\n",
    "    optimizer.step()\n",
    "\n",
    "    ### Testing\n",
    "    model_1.eval() # put the model in evaluation mode for testing (inference)\n",
    "    # 1. Forward pass\n",
    "    with torch.inference_mode():\n",
    "        test_pred = model_1(X_test)\n",
    "    \n",
    "        # 2. Calculate the loss\n",
    "        test_loss = loss_fn(test_pred, y_test)\n",
    "\n",
    "    if epoch % 100 == 0:\n",
    "        print(f\"Epoch: {epoch} | Train loss: {loss} | Test loss: {test_loss}\")"
   ]
  },
  {
   "cell_type": "code",
   "execution_count": 168,
   "metadata": {},
   "outputs": [
    {
     "name": "stdout",
     "output_type": "stream",
     "text": [
      "The model learned the following values for weights and bias:\n",
      "OrderedDict([('linear_layer.weight', tensor([[0.7000]], device='cuda:0')),\n",
      "             ('linear_layer.bias', tensor([0.3000], device='cuda:0'))])\n",
      "\n",
      "And the original values for weights and bias are:\n",
      "weights: 0.7, bias: 0.3\n"
     ]
    }
   ],
   "source": [
    "\n",
    "\n",
    "# Find our model's learned parameters\n",
    "from pprint import pprint # pprint = pretty print, see: https://docs.python.org/3/library/pprint.html \n",
    "print(\"The model learned the following values for weights and bias:\")\n",
    "pprint(model_1.state_dict())\n",
    "print(\"\\nAnd the original values for weights and bias are:\")\n",
    "print(f\"weights: {weight}, bias: {bias}\")\n"
   ]
  },
  {
   "cell_type": "code",
   "execution_count": 169,
   "metadata": {},
   "outputs": [
    {
     "data": {
      "text/plain": [
       "tensor([[0.8600],\n",
       "        [0.8740],\n",
       "        [0.8880],\n",
       "        [0.9020],\n",
       "        [0.9160],\n",
       "        [0.9300],\n",
       "        [0.9440],\n",
       "        [0.9580],\n",
       "        [0.9720],\n",
       "        [0.9860]], device='cuda:0')"
      ]
     },
     "execution_count": 169,
     "metadata": {},
     "output_type": "execute_result"
    }
   ],
   "source": [
    "\n",
    "\n",
    "# Turn model into evaluation mode\n",
    "model_1.eval()\n",
    "\n",
    "# Make predictions on the test data\n",
    "with torch.inference_mode():\n",
    "    y_preds = model_1(X_test)\n",
    "y_preds\n"
   ]
  },
  {
   "cell_type": "code",
   "execution_count": 170,
   "metadata": {},
   "outputs": [
    {
     "data": {
      "image/png": "[encoded data removed]",
      "text/plain": [
       "<Figure size 1000x700 with 1 Axes>"
      ]
     },
     "metadata": {},
     "output_type": "display_data"
    }
   ],
   "source": [
    "# plot_predictions(predictions=y_preds) # -> won't work... data not on CPU\n",
    "\n",
    "# Put data on the CPU and plot it\n",
    "plot_predictions(predictions=y_preds.cpu())\n"
   ]
  },
  {
   "cell_type": "code",
   "execution_count": 171,
   "metadata": {},
   "outputs": [
    {
     "name": "stdout",
     "output_type": "stream",
     "text": [
      "Saving model to: models\\01_pytorch_workflow_model_1.pth\n"
     ]
    }
   ],
   "source": [
    "from pathlib import Path\n",
    "\n",
    "# 1. Create models directory \n",
    "MODEL_PATH = Path(\"models\")\n",
    "MODEL_PATH.mkdir(parents=True, exist_ok=True)\n",
    "\n",
    "# 2. Create model save path \n",
    "MODEL_NAME = \"01_pytorch_workflow_model_1.pth\"\n",
    "MODEL_SAVE_PATH = MODEL_PATH / MODEL_NAME\n",
    "\n",
    "# 3. Save the model state dict \n",
    "print(f\"Saving model to: {MODEL_SAVE_PATH}\")\n",
    "torch.save(obj=model_1.state_dict(), # only saving the state_dict() only saves the models learned parameters\n",
    "           f=MODEL_SAVE_PATH)"
   ]
  },
  {
   "cell_type": "code",
   "execution_count": 172,
   "metadata": {},
   "outputs": [
    {
     "name": "stdout",
     "output_type": "stream",
     "text": [
      "Loaded model:\n",
      "LinearRegressionModelV2(\n",
      "  (linear_layer): Linear(in_features=1, out_features=1, bias=True)\n",
      ")\n",
      "Model on device:\n",
      "cuda:0\n"
     ]
    }
   ],
   "source": [
    "# Instantiate a fresh instance of LinearRegressionModelV2\n",
    "loaded_model_1 = LinearRegressionModelV2()\n",
    "\n",
    "# Load model state dict \n",
    "loaded_model_1.load_state_dict(torch.load(MODEL_SAVE_PATH))\n",
    "\n",
    "# Put model to target device (if your data is on GPU, model will have to be on GPU to make predictions)\n",
    "loaded_model_1.to(device)\n",
    "\n",
    "print(f\"Loaded model:\\n{loaded_model_1}\")\n",
    "print(f\"Model on device:\\n{next(loaded_model_1.parameters()).device}\")"
   ]
  },
  {
   "cell_type": "code",
   "execution_count": 173,
   "metadata": {},
   "outputs": [
    {
     "data": {
      "text/plain": [
       "tensor([[True],\n",
       "        [True],\n",
       "        [True],\n",
       "        [True],\n",
       "        [True],\n",
       "        [True],\n",
       "        [True],\n",
       "        [True],\n",
       "        [True],\n",
       "        [True]], device='cuda:0')"
      ]
     },
     "execution_count": 173,
     "metadata": {},
     "output_type": "execute_result"
    }
   ],
   "source": [
    "# Evaluate loaded model\n",
    "loaded_model_1.eval()\n",
    "with torch.inference_mode():\n",
    "    loaded_model_1_preds = loaded_model_1(X_test)\n",
    "y_preds == loaded_model_1_preds"
   ]
  },
  {
   "cell_type": "code",
   "execution_count": 174,
   "metadata": {},
   "outputs": [],
   "source": [
    "from sklearn.datasets import make_circles\n",
    "\n",
    "\n",
    "# Make 1000 samples \n",
    "n_samples = 1000\n",
    "\n",
    "# Create circles\n",
    "X, y = make_circles(n_samples,\n",
    "                    noise=0.03, # a little bit of noise to the dots\n",
    "                    random_state=42) # keep random state so we get the same values"
   ]
  },
  {
   "cell_type": "code",
   "execution_count": 183,
   "metadata": {},
   "outputs": [
    {
     "data": {
      "text/plain": [
       "array([[ 0.75424625,  0.23148074],\n",
       "       [-0.75615888,  0.15325888],\n",
       "       [-0.81539193,  0.17328203],\n",
       "       ...,\n",
       "       [-0.13690036, -0.81001183],\n",
       "       [ 0.67036156, -0.76750154],\n",
       "       [ 0.28105665,  0.96382443]])"
      ]
     },
     "execution_count": 183,
     "metadata": {},
     "output_type": "execute_result"
    }
   ],
   "source": [
    "X"
   ]
  },
  {
   "cell_type": "code",
   "execution_count": 184,
   "metadata": {},
   "outputs": [
    {
     "name": "stdout",
     "output_type": "stream",
     "text": [
      "First 5 X features:\n",
      "[[ 0.75424625  0.23148074]\n",
      " [-0.75615888  0.15325888]\n",
      " [-0.81539193  0.17328203]\n",
      " [-0.39373073  0.69288277]\n",
      " [ 0.44220765 -0.89672343]]\n",
      "\n",
      "First 5 y labels:\n",
      "[1 1 1 1 0]\n"
     ]
    }
   ],
   "source": [
    "\n",
    "\n",
    "print(f\"First 5 X features:\\n{X[:5]}\")\n",
    "print(f\"\\nFirst 5 y labels:\\n{y[:5]}\")\n",
    "\n"
   ]
  },
  {
   "cell_type": "code",
   "execution_count": 185,
   "metadata": {},
   "outputs": [
    {
     "data": {
      "text/html": [
       "<div>\n",
       "<style scoped>\n",
       "    .dataframe tbody tr th:only-of-type {\n",
       "        vertical-align: middle;\n",
       "    }\n",
       "\n",
       "    .dataframe tbody tr th {\n",
       "        vertical-align: top;\n",
       "    }\n",
       "\n",
       "    .dataframe thead th {\n",
       "        text-align: right;\n",
       "    }\n",
       "</style>\n",
       "<table border=\"1\" class=\"dataframe\">\n",
       "  <thead>\n",
       "    <tr style=\"text-align: right;\">\n",
       "      <th></th>\n",
       "      <th>X1</th>\n",
       "      <th>X2</th>\n",
       "      <th>label</th>\n",
       "    </tr>\n",
       "  </thead>\n",
       "  <tbody>\n",
       "    <tr>\n",
       "      <th>0</th>\n",
       "      <td>0.754246</td>\n",
       "      <td>0.231481</td>\n",
       "      <td>1</td>\n",
       "    </tr>\n",
       "    <tr>\n",
       "      <th>1</th>\n",
       "      <td>-0.756159</td>\n",
       "      <td>0.153259</td>\n",
       "      <td>1</td>\n",
       "    </tr>\n",
       "    <tr>\n",
       "      <th>2</th>\n",
       "      <td>-0.815392</td>\n",
       "      <td>0.173282</td>\n",
       "      <td>1</td>\n",
       "    </tr>\n",
       "    <tr>\n",
       "      <th>3</th>\n",
       "      <td>-0.393731</td>\n",
       "      <td>0.692883</td>\n",
       "      <td>1</td>\n",
       "    </tr>\n",
       "    <tr>\n",
       "      <th>4</th>\n",
       "      <td>0.442208</td>\n",
       "      <td>-0.896723</td>\n",
       "      <td>0</td>\n",
       "    </tr>\n",
       "    <tr>\n",
       "      <th>5</th>\n",
       "      <td>-0.479646</td>\n",
       "      <td>0.676435</td>\n",
       "      <td>1</td>\n",
       "    </tr>\n",
       "    <tr>\n",
       "      <th>6</th>\n",
       "      <td>-0.013648</td>\n",
       "      <td>0.803349</td>\n",
       "      <td>1</td>\n",
       "    </tr>\n",
       "    <tr>\n",
       "      <th>7</th>\n",
       "      <td>0.771513</td>\n",
       "      <td>0.147760</td>\n",
       "      <td>1</td>\n",
       "    </tr>\n",
       "    <tr>\n",
       "      <th>8</th>\n",
       "      <td>-0.169322</td>\n",
       "      <td>-0.793456</td>\n",
       "      <td>1</td>\n",
       "    </tr>\n",
       "    <tr>\n",
       "      <th>9</th>\n",
       "      <td>-0.121486</td>\n",
       "      <td>1.021509</td>\n",
       "      <td>0</td>\n",
       "    </tr>\n",
       "  </tbody>\n",
       "</table>\n",
       "</div>"
      ],
      "text/plain": [
       "         X1        X2  label\n",
       "0  0.754246  0.231481      1\n",
       "1 -0.756159  0.153259      1\n",
       "2 -0.815392  0.173282      1\n",
       "3 -0.393731  0.692883      1\n",
       "4  0.442208 -0.896723      0\n",
       "5 -0.479646  0.676435      1\n",
       "6 -0.013648  0.803349      1\n",
       "7  0.771513  0.147760      1\n",
       "8 -0.169322 -0.793456      1\n",
       "9 -0.121486  1.021509      0"
      ]
     },
     "execution_count": 185,
     "metadata": {},
     "output_type": "execute_result"
    }
   ],
   "source": [
    "# Make DataFrame of circle data\n",
    "import pandas as pd\n",
    "circles = pd.DataFrame({\"X1\": X[:, 0],\n",
    "    \"X2\": X[:, 1],\n",
    "    \"label\": y\n",
    "})\n",
    "circles.head(10)"
   ]
  },
  {
   "cell_type": "code",
   "execution_count": 187,
   "metadata": {},
   "outputs": [
    {
     "data": {
      "text/html": [
       "<div>\n",
       "<style scoped>\n",
       "    .dataframe tbody tr th:only-of-type {\n",
       "        vertical-align: middle;\n",
       "    }\n",
       "\n",
       "    .dataframe tbody tr th {\n",
       "        vertical-align: top;\n",
       "    }\n",
       "\n",
       "    .dataframe thead th {\n",
       "        text-align: right;\n",
       "    }\n",
       "</style>\n",
       "<table border=\"1\" class=\"dataframe\">\n",
       "  <thead>\n",
       "    <tr style=\"text-align: right;\">\n",
       "      <th></th>\n",
       "      <th>X1</th>\n",
       "      <th>X2</th>\n",
       "      <th>label</th>\n",
       "    </tr>\n",
       "  </thead>\n",
       "  <tbody>\n",
       "    <tr>\n",
       "      <th>X1</th>\n",
       "      <td>1.000000</td>\n",
       "      <td>-0.001138</td>\n",
       "      <td>-0.000765</td>\n",
       "    </tr>\n",
       "    <tr>\n",
       "      <th>X2</th>\n",
       "      <td>-0.001138</td>\n",
       "      <td>1.000000</td>\n",
       "      <td>0.000183</td>\n",
       "    </tr>\n",
       "    <tr>\n",
       "      <th>label</th>\n",
       "      <td>-0.000765</td>\n",
       "      <td>0.000183</td>\n",
       "      <td>1.000000</td>\n",
       "    </tr>\n",
       "  </tbody>\n",
       "</table>\n",
       "</div>"
      ],
      "text/plain": [
       "             X1        X2     label\n",
       "X1     1.000000 -0.001138 -0.000765\n",
       "X2    -0.001138  1.000000  0.000183\n",
       "label -0.000765  0.000183  1.000000"
      ]
     },
     "execution_count": 187,
     "metadata": {},
     "output_type": "execute_result"
    }
   ],
   "source": [
    "circles.corr()"
   ]
  },
  {
   "cell_type": "code",
   "execution_count": 197,
   "metadata": {},
   "outputs": [
    {
     "data": {
      "text/plain": [
       "<matplotlib.collections.PathCollection at 0x1a0e1377a90>"
      ]
     },
     "execution_count": 197,
     "metadata": {},
     "output_type": "execute_result"
    },
    {
     "data": {
      "image/png": "[encoded data removed]",
      "text/plain": [
       "<Figure size 640x480 with 1 Axes>"
      ]
     },
     "metadata": {},
     "output_type": "display_data"
    }
   ],
   "source": [
    "plt.scatter(X[:, 0], X[:, 1], c=y)"
   ]
  },
  {
   "cell_type": "code",
   "execution_count": 200,
   "metadata": {},
   "outputs": [
    {
     "data": {
      "text/plain": [
       "((1000, 2), (1000,))"
      ]
     },
     "execution_count": 200,
     "metadata": {},
     "output_type": "execute_result"
    }
   ],
   "source": [
    "# Check the shapes of our features and labels\n",
    "X.shape, y.shape"
   ]
  },
  {
   "cell_type": "code",
   "execution_count": 201,
   "metadata": {},
   "outputs": [
    {
     "data": {
      "text/plain": [
       "(tensor([[ 0.7542,  0.2315],\n",
       "         [-0.7562,  0.1533],\n",
       "         [-0.8154,  0.1733],\n",
       "         [-0.3937,  0.6929],\n",
       "         [ 0.4422, -0.8967]]),\n",
       " tensor([1., 1., 1., 1., 0.]))"
      ]
     },
     "execution_count": 201,
     "metadata": {},
     "output_type": "execute_result"
    }
   ],
   "source": [
    "X = torch.from_numpy(X).type(torch.float)\n",
    "y = torch.from_numpy(y).type(torch.float)\n",
    "\n",
    "# View the first five samples\n",
    "X[:5], y[:5]"
   ]
  },
  {
   "cell_type": "code",
   "execution_count": 202,
   "metadata": {},
   "outputs": [
    {
     "data": {
      "text/plain": [
       "(800, 200, 800, 200)"
      ]
     },
     "execution_count": 202,
     "metadata": {},
     "output_type": "execute_result"
    }
   ],
   "source": [
    "# Split data into train and test sets\n",
    "from sklearn.model_selection import train_test_split\n",
    "\n",
    "X_train, X_test, y_train, y_test = train_test_split(X, \n",
    "                                                    y, \n",
    "                                                    test_size=0.2, # 20% test, 80% train\n",
    "                                                    random_state=42) # make the random split reproducible\n",
    "\n",
    "len(X_train), len(X_test), len(y_train), len(y_test)"
   ]
  },
  {
   "cell_type": "code",
   "execution_count": null,
   "metadata": {},
   "outputs": [],
   "source": []
  }
 ],
 "metadata": {
  "kernelspec": {
   "display_name": "Python 3.8.11 ('test_env')",
   "language": "python",
   "name": "python3"
  },
  "language_info": {
   "codemirror_mode": {
    "name": "ipython",
    "version": 3
   },
   "file_extension": ".py",
   "mimetype": "text/x-python",
   "name": "python",
   "nbconvert_exporter": "python",
   "pygments_lexer": "ipython3",
   "version": "3.8.16"
  },
  "orig_nbformat": 4,
  "vscode": {
   "interpreter": {
    "hash": "fe6655796deadc18dc3508e7c4371aa60644a4e61647a1c9234ec6abc88b612b"
   }
  }
 },
 "nbformat": 4,
 "nbformat_minor": 2
}
